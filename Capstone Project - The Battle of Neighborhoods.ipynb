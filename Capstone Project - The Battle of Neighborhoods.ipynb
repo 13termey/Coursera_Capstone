{
    "cells": [
        {
            "cell_type": "markdown",
            "metadata": {
                "collapsed": true
            },
            "source": "WEEK ONE OF CAPSTONE PROJECT:"
        },
        {
            "cell_type": "markdown",
            "metadata": {},
            "source": "Problem:\n    Where would be the best place to open a South African cuisine-themed restaurant in New York?\n    Currently there is only one restaurant in New York City that features different aspects of South African cooking.\n    This means there is currently a niche in the market.\n    I know a lot of South Africans in New York alone that miss the comfort of home cooking that brings out nostalgia in potential customers."
        },
        {
            "cell_type": "markdown",
            "metadata": {},
            "source": "Background:\n    South African cuisine varies between areas and cultural groups. There are indigenous dishes that have been created since the Khoisan settlers that came from central Africa. However, South Africa has been influenced by colonial periods where many other nationalities inhabited South Africa including Dutch, English and Indian.\n    The background of South African food is important because with the many cultures included in cooking, different spices and methods are used to prepares many traditional meals."
        },
        {
            "cell_type": "markdown",
            "metadata": {},
            "source": "Data Collection:\n    Using FourSquare, I will first search for the current South African restaurants in New York City and analyse their success rates and reviews as well as the neighbourhoods they are situated in. \n    Then I will collect data from internet sources which will display where in the city the most South Africans reside.\n    This will give me a sense of which neighbourhoods to centre the restaurant around to make it local and easily accessible to many South Africans.\n    Using data from other South African restaurants, I will "
        },
        {
            "cell_type": "code",
            "execution_count": null,
            "metadata": {},
            "outputs": [],
            "source": ""
        }
    ],
    "metadata": {
        "kernelspec": {
            "display_name": "Python 3.6",
            "language": "python",
            "name": "python3"
        },
        "language_info": {
            "codemirror_mode": {
                "name": "ipython",
                "version": 3
            },
            "file_extension": ".py",
            "mimetype": "text/x-python",
            "name": "python",
            "nbconvert_exporter": "python",
            "pygments_lexer": "ipython3",
            "version": "3.6.9"
        }
    },
    "nbformat": 4,
    "nbformat_minor": 1
}